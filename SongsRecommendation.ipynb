{
 "cells": [
  {
   "cell_type": "markdown",
   "id": "b50947a0",
   "metadata": {},
   "source": [
    "Importing required libraries and packages\n"
   ]
  },
  {
   "cell_type": "code",
   "execution_count": 1,
   "id": "3bf1dd36",
   "metadata": {},
   "outputs": [],
   "source": [
    "import numpy as np\n",
    "import pandas as pd\n",
    "import nltk\n",
    "from nltk.stem.porter import PorterStemmer\n"
   ]
  },
  {
   "cell_type": "code",
   "execution_count": 3,
   "id": "735e0621",
   "metadata": {},
   "outputs": [],
   "source": [
    "nltk.download('punkt')"
   ]
  },
  {
   "cell_type": "markdown",
   "id": "24ced32a",
   "metadata": {},
   "source": [
    "Dataset downloded from kaggle,named \"Lyric dataset\""
   ]
  },
  {
   "cell_type": "code",
   "execution_count": 4,
   "id": "94d99613",
   "metadata": {},
   "outputs": [
    {
     "data": {
      "text/html": [
       "<div>\n",
       "<style scoped>\n",
       "    .dataframe tbody tr th:only-of-type {\n",
       "        vertical-align: middle;\n",
       "    }\n",
       "\n",
       "    .dataframe tbody tr th {\n",
       "        vertical-align: top;\n",
       "    }\n",
       "\n",
       "    .dataframe thead th {\n",
       "        text-align: right;\n",
       "    }\n",
       "</style>\n",
       "<table border=\"1\" class=\"dataframe\">\n",
       "  <thead>\n",
       "    <tr style=\"text-align: right;\">\n",
       "      <th></th>\n",
       "      <th>Unnamed: 0</th>\n",
       "      <th>Artist</th>\n",
       "      <th>Title</th>\n",
       "      <th>Album</th>\n",
       "      <th>Year</th>\n",
       "      <th>Date</th>\n",
       "      <th>Lyric</th>\n",
       "    </tr>\n",
       "  </thead>\n",
       "  <tbody>\n",
       "    <tr>\n",
       "      <th>0</th>\n",
       "      <td>0</td>\n",
       "      <td>Charlie Puth</td>\n",
       "      <td>Attention</td>\n",
       "      <td>Voicenotes</td>\n",
       "      <td>2017.0</td>\n",
       "      <td>2017-04-21</td>\n",
       "      <td>woahoh hmhmm   you've been runnin' 'round runn...</td>\n",
       "    </tr>\n",
       "    <tr>\n",
       "      <th>1</th>\n",
       "      <td>1</td>\n",
       "      <td>Charlie Puth</td>\n",
       "      <td>We Don’t Talk Anymore</td>\n",
       "      <td>Nine Track Mind</td>\n",
       "      <td>2016.0</td>\n",
       "      <td>2016-05-24</td>\n",
       "      <td>charlie puth we don't talk anymore we don't ta...</td>\n",
       "    </tr>\n",
       "    <tr>\n",
       "      <th>2</th>\n",
       "      <td>2</td>\n",
       "      <td>Charlie Puth</td>\n",
       "      <td>How Long</td>\n",
       "      <td>Voicenotes</td>\n",
       "      <td>2017.0</td>\n",
       "      <td>2017-10-05</td>\n",
       "      <td>alright ooh yeah   i'll admit i was wrong what...</td>\n",
       "    </tr>\n",
       "    <tr>\n",
       "      <th>3</th>\n",
       "      <td>3</td>\n",
       "      <td>Charlie Puth</td>\n",
       "      <td>Marvin Gaye</td>\n",
       "      <td>Nine Track Mind</td>\n",
       "      <td>2015.0</td>\n",
       "      <td>2015-02-10</td>\n",
       "      <td>charlie puth let's marvin gaye and get it on y...</td>\n",
       "    </tr>\n",
       "    <tr>\n",
       "      <th>4</th>\n",
       "      <td>4</td>\n",
       "      <td>Charlie Puth</td>\n",
       "      <td>One Call Away</td>\n",
       "      <td>Nine Track Mind</td>\n",
       "      <td>2015.0</td>\n",
       "      <td>2015-08-20</td>\n",
       "      <td>i'm only one call away i'll be there to save t...</td>\n",
       "    </tr>\n",
       "  </tbody>\n",
       "</table>\n",
       "</div>"
      ],
      "text/plain": [
       "   Unnamed: 0        Artist                  Title            Album    Year  \\\n",
       "0           0  Charlie Puth              Attention       Voicenotes  2017.0   \n",
       "1           1  Charlie Puth  We Don’t Talk Anymore  Nine Track Mind  2016.0   \n",
       "2           2  Charlie Puth               How Long       Voicenotes  2017.0   \n",
       "3           3  Charlie Puth            Marvin Gaye  Nine Track Mind  2015.0   \n",
       "4           4  Charlie Puth          One Call Away  Nine Track Mind  2015.0   \n",
       "\n",
       "         Date                                              Lyric  \n",
       "0  2017-04-21  woahoh hmhmm   you've been runnin' 'round runn...  \n",
       "1  2016-05-24  charlie puth we don't talk anymore we don't ta...  \n",
       "2  2017-10-05  alright ooh yeah   i'll admit i was wrong what...  \n",
       "3  2015-02-10  charlie puth let's marvin gaye and get it on y...  \n",
       "4  2015-08-20  i'm only one call away i'll be there to save t...  "
      ]
     },
     "execution_count": 4,
     "metadata": {},
     "output_type": "execute_result"
    }
   ],
   "source": [
    "df = pd.read_csv('CharliePuth.csv') \n",
    "df.head()"
   ]
  },
  {
   "cell_type": "code",
   "execution_count": 7,
   "id": "8e280a38",
   "metadata": {},
   "outputs": [
    {
     "data": {
      "text/plain": [
       "0     woahoh hmhmm   you've been runnin' 'round runn...\n",
       "1     charlie puth we don't talk anymore we don't ta...\n",
       "2     alright ooh yeah   i'll admit i was wrong what...\n",
       "3     charlie puth let's marvin gaye and get it on y...\n",
       "4     i'm only one call away i'll be there to save t...\n",
       "                            ...                        \n",
       "70    while you're creepin' 'round on me x8   how lo...\n",
       "71    spoken  hello ladies i may have had to use a p...\n",
       "72    you sing yourself to sleep at night melodies b...\n",
       "73    oh im facing the bottle oh for all of my probl...\n",
       "74    what am i supposed to say i wanna look you in ...\n",
       "Name: Lyric, Length: 75, dtype: object"
      ]
     },
     "execution_count": 7,
     "metadata": {},
     "output_type": "execute_result"
    }
   ],
   "source": [
    "df['Lyric']"
   ]
  },
  {
   "cell_type": "code",
   "execution_count": 5,
   "id": "dbed8424",
   "metadata": {},
   "outputs": [],
   "source": [
    "df['Lyric'] = df['Lyric'].str.lower().replace(r'[^\\w\\s]','').replace(r'\\n',' ', regex=True)\n",
    "df['Lyric'][0]"
   ]
  },
  {
   "cell_type": "code",
   "execution_count": 8,
   "id": "4fe668fa",
   "metadata": {},
   "outputs": [],
   "source": [
    "stemmer = PorterStemmer()"
   ]
  },
  {
   "cell_type": "markdown",
   "id": "dd0c3ed5",
   "metadata": {},
   "source": [
    "creating a function for tokenization and stemming"
   ]
  },
  {
   "cell_type": "code",
   "execution_count": 9,
   "id": "c570b217",
   "metadata": {},
   "outputs": [],
   "source": [
    "def tokenization(txt):\n",
    "    tokens = nltk.word_tokenize(txt)\n",
    "    stemming = [stemmer.stem(w) for w in tokens]\n",
    "    return \" \".join(stemming)"
   ]
  },
  {
   "cell_type": "code",
   "execution_count": 6,
   "id": "b148ba01",
   "metadata": {},
   "outputs": [],
   "source": [
    "df['Lyric'] = df['Lyric'].apply(lambda x: tokenization(x))"
   ]
  },
  {
   "cell_type": "markdown",
   "id": "9a652007",
   "metadata": {},
   "source": [
    "importing TFidfVectorizer and cosine_similarity to represent the semantic meaning of words in a vector space and for similarity score. "
   ]
  },
  {
   "cell_type": "code",
   "execution_count": null,
   "id": "e3bc67d9",
   "metadata": {},
   "outputs": [],
   "source": [
    "from sklearn.feature_extraction.text import TfidfVectorizer\n",
    "from sklearn.metrics.pairwise import cosine_similarity"
   ]
  },
  {
   "cell_type": "code",
   "execution_count": null,
   "id": "684d9834",
   "metadata": {},
   "outputs": [],
   "source": [
    "tfidvector = TfidfVectorizer(analyzer='word',stop_words='english')\n",
    "matrix = tfidvector.fit_transform(df['Lyric'])\n",
    "similarity = cosine_similarity(matrix)"
   ]
  },
  {
   "cell_type": "code",
   "execution_count": null,
   "id": "a4e16dcd",
   "metadata": {},
   "outputs": [],
   "source": [
    "similarity[0]"
   ]
  },
  {
   "cell_type": "code",
   "execution_count": null,
   "id": "6ff72fed",
   "metadata": {},
   "outputs": [],
   "source": [
    "df[df['Title']==''].index[0]"
   ]
  },
  {
   "cell_type": "markdown",
   "id": "6085dde0",
   "metadata": {},
   "source": [
    "creating a function called recommendation for recommending songs based on lyrics"
   ]
  },
  {
   "cell_type": "code",
   "execution_count": null,
   "id": "bdfbfb9e",
   "metadata": {},
   "outputs": [],
   "source": [
    "def recommendation(Title_df):\n",
    "    idx = df[df['Title'] == Title_df].index[0]\n",
    "    distances = sorted(list(enumerate(similarity[idx])),reverse=True,key=lambda x:x[1])\n",
    "    \n",
    "    Titles = []\n",
    "    for m_id in distances[1:21]:\n",
    "        Titles.append(df.iloc[m_id[0]].Title)\n",
    "        \n",
    "    return Titles"
   ]
  },
  {
   "cell_type": "code",
   "execution_count": null,
   "id": "c66fb0f9",
   "metadata": {},
   "outputs": [],
   "source": [
    "recommendation('Attention')"
   ]
  },
  {
   "cell_type": "code",
   "execution_count": null,
   "id": "6981e8dc",
   "metadata": {},
   "outputs": [],
   "source": [
    "import pickle\n",
    "pickle.dump(similarity,open('similarity.pkl','wb'))\n",
    "pickle.dump(df,open('df.pkl','wb'))\n"
   ]
  },
  {
   "cell_type": "code",
   "execution_count": null,
   "id": "d0bd9c5d",
   "metadata": {},
   "outputs": [],
   "source": []
  },
  {
   "cell_type": "code",
   "execution_count": null,
   "id": "ca31df49",
   "metadata": {},
   "outputs": [],
   "source": []
  },
  {
   "cell_type": "code",
   "execution_count": null,
   "id": "72be641d",
   "metadata": {},
   "outputs": [],
   "source": []
  },
  {
   "cell_type": "code",
   "execution_count": null,
   "id": "5aa3dd47",
   "metadata": {},
   "outputs": [],
   "source": []
  },
  {
   "cell_type": "code",
   "execution_count": null,
   "id": "cd6d8204",
   "metadata": {},
   "outputs": [],
   "source": []
  },
  {
   "cell_type": "code",
   "execution_count": null,
   "id": "3401f9b3",
   "metadata": {},
   "outputs": [],
   "source": []
  },
  {
   "cell_type": "code",
   "execution_count": null,
   "id": "7ce9eb05",
   "metadata": {},
   "outputs": [],
   "source": []
  },
  {
   "cell_type": "code",
   "execution_count": null,
   "id": "a084b04a",
   "metadata": {},
   "outputs": [],
   "source": []
  },
  {
   "cell_type": "code",
   "execution_count": null,
   "id": "eda0c102",
   "metadata": {},
   "outputs": [],
   "source": []
  },
  {
   "cell_type": "code",
   "execution_count": null,
   "id": "c2f6ac53",
   "metadata": {},
   "outputs": [],
   "source": []
  },
  {
   "cell_type": "code",
   "execution_count": null,
   "id": "dde7f1e1",
   "metadata": {},
   "outputs": [],
   "source": []
  },
  {
   "cell_type": "code",
   "execution_count": null,
   "id": "eed73bf7",
   "metadata": {},
   "outputs": [],
   "source": []
  },
  {
   "cell_type": "code",
   "execution_count": null,
   "id": "1af1a48e",
   "metadata": {},
   "outputs": [],
   "source": []
  },
  {
   "cell_type": "code",
   "execution_count": null,
   "id": "7189c38b",
   "metadata": {},
   "outputs": [],
   "source": []
  },
  {
   "cell_type": "code",
   "execution_count": null,
   "id": "99ffab86",
   "metadata": {},
   "outputs": [],
   "source": []
  }
 ],
 "metadata": {
  "kernelspec": {
   "display_name": "Python 3 (ipykernel)",
   "language": "python",
   "name": "python3"
  },
  "language_info": {
   "codemirror_mode": {
    "name": "ipython",
    "version": 3
   },
   "file_extension": ".py",
   "mimetype": "text/x-python",
   "name": "python",
   "nbconvert_exporter": "python",
   "pygments_lexer": "ipython3",
   "version": "3.9.13"
  }
 },
 "nbformat": 4,
 "nbformat_minor": 5
}
